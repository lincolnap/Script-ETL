{
 "cells": [
  {
   "cell_type": "code",
   "execution_count": 1,
   "metadata": {},
   "outputs": [],
   "source": [
    "import os\n",
    "import random\n",
    "import pandas as pd"
   ]
  },
  {
   "cell_type": "code",
   "execution_count": 2,
   "metadata": {},
   "outputs": [],
   "source": [
    "dag_path = os.getcwd()\n",
    "\n",
    "name_prodtos = ['jugo Manzana','Jugo Pera','Jugo Tomate', 'Jugo Fresa', 'Jugo Naranja']\n",
    "name_productos = [random.choice(name_prodtos) for x in range(13)]\n"
   ]
  },
  {
   "cell_type": "code",
   "execution_count": 3,
   "metadata": {},
   "outputs": [
    {
     "name": "stdout",
     "output_type": "stream",
     "text": [
      "0\n",
      "1\n",
      "2\n",
      "3\n",
      "4\n",
      "5\n",
      "6\n",
      "7\n",
      "8\n",
      "9\n"
     ]
    }
   ],
   "source": [
    "for x in range(10):\n",
    "    print(x)"
   ]
  },
  {
   "cell_type": "code",
   "execution_count": 4,
   "metadata": {},
   "outputs": [
    {
     "data": {
      "text/plain": [
       "['Jugo Fresa',\n",
       " 'Jugo Pera',\n",
       " 'Jugo Fresa',\n",
       " 'Jugo Fresa',\n",
       " 'jugo Manzana',\n",
       " 'Jugo Fresa',\n",
       " 'Jugo Fresa',\n",
       " 'Jugo Naranja',\n",
       " 'Jugo Fresa',\n",
       " 'jugo Manzana',\n",
       " 'jugo Manzana',\n",
       " 'Jugo Tomate',\n",
       " 'jugo Manzana']"
      ]
     },
     "execution_count": 4,
     "metadata": {},
     "output_type": "execute_result"
    }
   ],
   "source": [
    "name_productos"
   ]
  },
  {
   "cell_type": "code",
   "execution_count": 5,
   "metadata": {},
   "outputs": [
    {
     "data": {
      "text/html": [
       "<div>\n",
       "<style scoped>\n",
       "    .dataframe tbody tr th:only-of-type {\n",
       "        vertical-align: middle;\n",
       "    }\n",
       "\n",
       "    .dataframe tbody tr th {\n",
       "        vertical-align: top;\n",
       "    }\n",
       "\n",
       "    .dataframe thead th {\n",
       "        text-align: right;\n",
       "    }\n",
       "</style>\n",
       "<table border=\"1\" class=\"dataframe\">\n",
       "  <thead>\n",
       "    <tr style=\"text-align: right;\">\n",
       "      <th></th>\n",
       "      <th>Nombre Producto</th>\n",
       "      <th>Categoria</th>\n",
       "      <th>Valor</th>\n",
       "    </tr>\n",
       "  </thead>\n",
       "  <tbody>\n",
       "    <tr>\n",
       "      <th>0</th>\n",
       "      <td>Jugo Fresa</td>\n",
       "      <td>Citrico</td>\n",
       "      <td>1.12</td>\n",
       "    </tr>\n",
       "    <tr>\n",
       "      <th>1</th>\n",
       "      <td>Jugo Pera</td>\n",
       "      <td>Pruebas</td>\n",
       "      <td>1.05</td>\n",
       "    </tr>\n",
       "    <tr>\n",
       "      <th>2</th>\n",
       "      <td>Jugo Fresa</td>\n",
       "      <td>Frio</td>\n",
       "      <td>0.82</td>\n",
       "    </tr>\n",
       "    <tr>\n",
       "      <th>3</th>\n",
       "      <td>Jugo Fresa</td>\n",
       "      <td>Frio</td>\n",
       "      <td>0.63</td>\n",
       "    </tr>\n",
       "    <tr>\n",
       "      <th>4</th>\n",
       "      <td>jugo Manzana</td>\n",
       "      <td>Citrico</td>\n",
       "      <td>1.13</td>\n",
       "    </tr>\n",
       "    <tr>\n",
       "      <th>5</th>\n",
       "      <td>Jugo Fresa</td>\n",
       "      <td>Citrico</td>\n",
       "      <td>1.07</td>\n",
       "    </tr>\n",
       "    <tr>\n",
       "      <th>6</th>\n",
       "      <td>Jugo Fresa</td>\n",
       "      <td>Frio</td>\n",
       "      <td>1.07</td>\n",
       "    </tr>\n",
       "    <tr>\n",
       "      <th>7</th>\n",
       "      <td>Jugo Naranja</td>\n",
       "      <td>Pruebas</td>\n",
       "      <td>0.64</td>\n",
       "    </tr>\n",
       "    <tr>\n",
       "      <th>8</th>\n",
       "      <td>Jugo Fresa</td>\n",
       "      <td>Citrico</td>\n",
       "      <td>0.90</td>\n",
       "    </tr>\n",
       "    <tr>\n",
       "      <th>9</th>\n",
       "      <td>jugo Manzana</td>\n",
       "      <td>Frio</td>\n",
       "      <td>1.13</td>\n",
       "    </tr>\n",
       "    <tr>\n",
       "      <th>10</th>\n",
       "      <td>jugo Manzana</td>\n",
       "      <td>Citrico</td>\n",
       "      <td>0.89</td>\n",
       "    </tr>\n",
       "    <tr>\n",
       "      <th>11</th>\n",
       "      <td>Jugo Tomate</td>\n",
       "      <td>Citrico</td>\n",
       "      <td>0.81</td>\n",
       "    </tr>\n",
       "    <tr>\n",
       "      <th>12</th>\n",
       "      <td>jugo Manzana</td>\n",
       "      <td>Frio</td>\n",
       "      <td>0.69</td>\n",
       "    </tr>\n",
       "  </tbody>\n",
       "</table>\n",
       "</div>"
      ],
      "text/plain": [
       "   Nombre Producto Categoria  Valor\n",
       "0       Jugo Fresa   Citrico   1.12\n",
       "1        Jugo Pera   Pruebas   1.05\n",
       "2       Jugo Fresa      Frio   0.82\n",
       "3       Jugo Fresa      Frio   0.63\n",
       "4     jugo Manzana   Citrico   1.13\n",
       "5       Jugo Fresa   Citrico   1.07\n",
       "6       Jugo Fresa      Frio   1.07\n",
       "7     Jugo Naranja   Pruebas   0.64\n",
       "8       Jugo Fresa   Citrico   0.90\n",
       "9     jugo Manzana      Frio   1.13\n",
       "10    jugo Manzana   Citrico   0.89\n",
       "11     Jugo Tomate   Citrico   0.81\n",
       "12    jugo Manzana      Frio   0.69"
      ]
     },
     "execution_count": 5,
     "metadata": {},
     "output_type": "execute_result"
    }
   ],
   "source": [
    "#df_name_productos = pd.DataFrame(name_productos)\n",
    "Ventas = pd.DataFrame(name_productos, columns=['Nombre Producto'])\n",
    "\n",
    "categorias = ['Citrico', 'Frio','Pruebas']\n",
    "df_categoria= [random.choice(categorias) for x in range(13)]\n",
    "\n",
    "df_Valor =[round(random.uniform(0.54,1.20),2) for _ in range(13)]\n",
    "\n",
    "Ventas['Categoria'] = df_categoria \n",
    "Ventas['Valor'] = df_Valor\n",
    "\n",
    "Ventas"
   ]
  },
  {
   "cell_type": "code",
   "execution_count": null,
   "metadata": {},
   "outputs": [],
   "source": []
  }
 ],
 "metadata": {
  "kernelspec": {
   "display_name": "Python 3.9.13 ('base')",
   "language": "python",
   "name": "python3"
  },
  "language_info": {
   "codemirror_mode": {
    "name": "ipython",
    "version": 3
   },
   "file_extension": ".py",
   "mimetype": "text/x-python",
   "name": "python",
   "nbconvert_exporter": "python",
   "pygments_lexer": "ipython3",
   "version": "3.9.13"
  },
  "orig_nbformat": 4,
  "vscode": {
   "interpreter": {
    "hash": "ad2bdc8ecc057115af97d19610ffacc2b4e99fae6737bb82f5d7fb13d2f2c186"
   }
  }
 },
 "nbformat": 4,
 "nbformat_minor": 2
}
