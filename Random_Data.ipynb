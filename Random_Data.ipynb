{
 "cells": [
  {
   "cell_type": "code",
   "execution_count": null,
   "metadata": {},
   "outputs": [],
   "source": [
    "import os\n",
    "import random\n",
    "import pandas as pd"
   ]
  },
  {
   "cell_type": "code",
   "execution_count": null,
   "metadata": {},
   "outputs": [],
   "source": [
    "dag_path = os.getcwd()\n",
    "\n",
    "name_prodtos = ['jugo Manzana','Jugo Pera','Jugo Tomate', 'Jugo Fresa', 'Jugo Naranja']\n",
    "name_productos = [random.choice(name_prodtos) for x in range(13000)]\n"
   ]
  },
  {
   "cell_type": "code",
   "execution_count": null,
   "metadata": {},
   "outputs": [],
   "source": [
    "name_productos"
   ]
  },
  {
   "cell_type": "code",
   "execution_count": null,
   "metadata": {},
   "outputs": [],
   "source": [
    "#df_name_productos = pd.DataFrame(name_productos)\n",
    "Ventas = pd.DataFrame(name_productos, columns=['Nombre Producto'])\n",
    "\n",
    "categorias = ['Citrico', 'Frio','Pruebas']\n",
    "df_categoria= [random.choice(categorias) for x in range(13000)]\n",
    "\n",
    "df_Valor =[round(random.uniform(0.54,1.20),2) for _ in range(13000)]\n",
    "\n",
    "Ventas['Categoria'] = df_categoria \n",
    "Ventas['Valor'] = df_Valor\n",
    "\n",
    "Ventas.to_csv(r'./processed_data/ventas_random.csv',index=True)"
   ]
  }
 ],
 "metadata": {
  "language_info": {
   "name": "python"
  },
  "orig_nbformat": 4
 },
 "nbformat": 4,
 "nbformat_minor": 2
}
